{
 "cells": [
  {
   "cell_type": "code",
   "execution_count": 1,
   "metadata": {},
   "outputs": [
    {
     "name": "stdout",
     "output_type": "stream",
     "text": [
      "['chi_2_e+00.csv', 'chi_2_e-01.csv', 'chi_2_e+01.csv', '.DS_Store']\n"
     ]
    }
   ],
   "source": [
    "import os\n",
    "import pandas as pd\n",
    "#path = '/Users/ori/Desktop/UFPV_data/e_minus_01/'\n",
    "#path = '/Users/ori/Desktop/UFPV_data/e_00/'\n",
    "path = '/Users/ori/Desktop/UFPV_data/'\n",
    "\n",
    "# Get a list of all files and directories in the specified directory\n",
    "files = os.listdir(path)\n",
    "#chi = -1\n",
    "#chi = 0\n",
    "#chi = 1\n",
    "# Define a key function to extract the numerical value from each filename\n",
    "def get_number(filename):\n",
    "    # Assume the numerical value is always at the end of the filename, before the file extension\n",
    "    parts = filename.split('.')\n",
    "    last_part = parts[-2]\n",
    "    number_str = ''.join(filter(str.isdigit, last_part))\n",
    "    if number_str:\n",
    "        return int(number_str)\n",
    "    else:\n",
    "        return float('inf')\n",
    "\n",
    "# Sort the list of files in ascending order based on the numerical value\n",
    "sorted_files = sorted(files, key=get_number)\n",
    "\n",
    "# Print the sorted list of files\n",
    "print(sorted_files)\n",
    "df_list = []\n",
    "for filename in sorted_files:\n",
    "    if filename.endswith('.csv'):\n",
    "        file_path = os.path.join(path, filename)\n",
    "        df = pd.read_csv(file_path,low_memory=False)\n",
    "        df_list.append(df)\n",
    "merged_df = pd.concat(df_list, ignore_index=True)\n",
    "\n",
    "# Write the merged DataFrame to a CSV file\n",
    "merged_df.to_csv(\"/Users/ori/Desktop/merged_source_SF_chi2.csv\", index=False)"
   ]
  },
  {
   "cell_type": "code",
   "execution_count": 2,
   "metadata": {},
   "outputs": [],
   "source": [
    "import pandas as pd\n",
    "df = pd.read_csv(\"/Users/ori/Desktop/merged_source_7.csv\",delimiter=\",\",low_memory=False)"
   ]
  },
  {
   "cell_type": "code",
   "execution_count": 3,
   "metadata": {},
   "outputs": [],
   "source": [
    "import numpy as np\n",
    "import sys\n",
    "np.set_printoptions(threshold=sys.maxsize)"
   ]
  },
  {
   "cell_type": "code",
   "execution_count": 4,
   "metadata": {},
   "outputs": [
    {
     "data": {
      "text/plain": [
       "array([1.00e-99, 3.00e-03, 6.00e-03, 9.00e-03, 1.20e-02, 1.50e-02,\n",
       "       1.80e-02, 2.10e-02, 2.40e-02, 2.70e-02, 3.00e-02, 3.30e-02,\n",
       "       3.60e-02, 3.90e-02, 4.20e-02, 4.50e-02, 4.80e-02, 5.10e-02,\n",
       "       5.40e-02, 5.70e-02, 6.00e-02, 6.30e-02, 6.60e-02, 6.90e-02,\n",
       "       7.20e-02, 7.50e-02, 7.80e-02, 8.10e-02, 8.40e-02, 8.70e-02,\n",
       "       9.00e-02, 9.30e-02, 9.60e-02, 9.90e-02, 1.02e-01, 1.05e-01,\n",
       "       1.08e-01, 1.11e-01, 1.14e-01, 1.17e-01, 1.20e-01, 1.23e-01,\n",
       "       1.26e-01, 1.29e-01, 1.32e-01, 1.35e-01, 1.38e-01, 1.41e-01,\n",
       "       1.44e-01, 1.47e-01, 1.50e-01, 1.53e-01, 1.56e-01, 1.59e-01,\n",
       "       1.62e-01, 1.65e-01, 1.68e-01, 1.71e-01, 1.74e-01, 1.77e-01,\n",
       "       1.80e-01, 1.83e-01, 1.86e-01, 1.89e-01, 1.92e-01, 1.95e-01,\n",
       "       1.98e-01, 2.04e-01, 2.10e-01, 2.16e-01, 2.22e-01, 2.28e-01,\n",
       "       2.34e-01, 2.40e-01, 2.46e-01, 2.52e-01, 2.58e-01, 2.64e-01,\n",
       "       2.70e-01, 2.76e-01, 2.82e-01, 2.88e-01, 2.94e-01, 3.00e-01,\n",
       "       3.06e-01, 3.12e-01, 3.18e-01, 3.24e-01, 3.30e-01, 3.36e-01,\n",
       "       3.42e-01, 3.48e-01, 3.54e-01, 3.60e-01, 3.66e-01, 3.72e-01,\n",
       "       3.78e-01, 3.84e-01, 3.90e-01, 3.96e-01, 4.02e-01, 4.08e-01,\n",
       "       4.14e-01, 4.20e-01, 4.26e-01, 4.32e-01, 4.38e-01, 4.44e-01,\n",
       "       4.50e-01, 4.56e-01, 4.62e-01, 4.68e-01, 4.74e-01, 4.80e-01,\n",
       "       4.86e-01, 4.92e-01, 4.98e-01, 5.04e-01, 5.10e-01, 5.16e-01,\n",
       "       5.22e-01, 5.28e-01, 5.34e-01, 5.40e-01, 5.46e-01, 5.52e-01,\n",
       "       5.58e-01, 5.64e-01, 5.70e-01, 5.76e-01, 5.82e-01, 5.88e-01,\n",
       "       5.94e-01, 6.00e-01, 6.06e-01, 6.12e-01, 6.18e-01, 6.24e-01,\n",
       "       6.30e-01, 6.36e-01, 6.42e-01, 6.48e-01, 6.54e-01, 6.60e-01,\n",
       "       6.66e-01, 6.72e-01, 6.78e-01, 6.84e-01, 6.90e-01, 6.96e-01,\n",
       "       7.02e-01, 7.08e-01, 7.14e-01, 7.20e-01, 7.26e-01, 7.32e-01,\n",
       "       7.38e-01, 7.44e-01, 7.50e-01, 7.56e-01, 7.62e-01, 7.68e-01,\n",
       "       7.74e-01, 7.80e-01, 7.86e-01, 7.92e-01, 7.98e-01, 8.04e-01,\n",
       "       8.10e-01, 8.16e-01, 8.22e-01, 8.28e-01, 8.34e-01, 8.40e-01,\n",
       "       8.46e-01, 8.52e-01, 8.58e-01, 8.64e-01, 8.70e-01, 8.76e-01,\n",
       "       8.82e-01, 8.88e-01, 8.94e-01, 9.00e-01, 9.06e-01, 9.12e-01,\n",
       "       9.18e-01, 9.24e-01, 9.30e-01, 9.36e-01, 9.42e-01, 9.48e-01,\n",
       "       9.54e-01, 9.60e-01, 9.66e-01, 9.72e-01, 9.78e-01, 9.84e-01,\n",
       "       9.90e-01, 9.96e-01, 1.00e+00])"
      ]
     },
     "execution_count": 4,
     "metadata": {},
     "output_type": "execute_result"
    }
   ],
   "source": [
    "\n",
    "df_chi = df.loc[df['chi'] == 9]\n",
    "cst = np.array(np.unique(df_chi['Z']))\n",
    "cst\n"
   ]
  },
  {
   "cell_type": "code",
   "execution_count": 1,
   "metadata": {},
   "outputs": [
    {
     "ename": "NameError",
     "evalue": "name 'df_chi' is not defined",
     "output_type": "error",
     "traceback": [
      "\u001b[0;31m---------------------------------------------------------------------------\u001b[0m",
      "\u001b[0;31mNameError\u001b[0m                                 Traceback (most recent call last)",
      "Cell \u001b[0;32mIn[1], line 1\u001b[0m\n\u001b[0;32m----> 1\u001b[0m df_cst \u001b[39m=\u001b[39m df_chi\u001b[39m.\u001b[39mloc[df_chi[\u001b[39m'\u001b[39m\u001b[39mc_st\u001b[39m\u001b[39m'\u001b[39m] \u001b[39m==\u001b[39m \u001b[39m0.0832099\u001b[39m]\n\u001b[1;32m      2\u001b[0m df_cst2 \u001b[39m=\u001b[39m df_chi\u001b[39m.\u001b[39mloc[df_chi[\u001b[39m'\u001b[39m\u001b[39mc_st\u001b[39m\u001b[39m'\u001b[39m] \u001b[39m==\u001b[39m \u001b[39m0.113852\u001b[39m]\n\u001b[1;32m      3\u001b[0m df_cst3 \u001b[39m=\u001b[39m df_chi\u001b[39m.\u001b[39mloc[df_chi[\u001b[39m'\u001b[39m\u001b[39mc_st\u001b[39m\u001b[39m'\u001b[39m] \u001b[39m==\u001b[39m \u001b[39m0.172681\u001b[39m]\n",
      "\u001b[0;31mNameError\u001b[0m: name 'df_chi' is not defined"
     ]
    }
   ],
   "source": [
    "df_cst = df_chi.loc[df_chi['c_st'] == 0.0832099]\n",
    "df_cst2 = df_chi.loc[df_chi['c_st'] == 0.113852]\n",
    "df_cst3 = df_chi.loc[df_chi['c_st'] == 0.172681]\n",
    "df_cst4 = df_chi.loc[df_chi['c_st'] == 0.255568]\n",
    "\n",
    "\n",
    "df_cst"
   ]
  },
  {
   "cell_type": "code",
   "execution_count": 74,
   "metadata": {},
   "outputs": [
    {
     "data": {
      "text/html": [
       "<div>\n",
       "<style scoped>\n",
       "    .dataframe tbody tr th:only-of-type {\n",
       "        vertical-align: middle;\n",
       "    }\n",
       "\n",
       "    .dataframe tbody tr th {\n",
       "        vertical-align: top;\n",
       "    }\n",
       "\n",
       "    .dataframe thead th {\n",
       "        text-align: right;\n",
       "    }\n",
       "</style>\n",
       "<table border=\"1\" class=\"dataframe\">\n",
       "  <thead>\n",
       "    <tr style=\"text-align: right;\">\n",
       "      <th></th>\n",
       "      <th>Unnamed: 0</th>\n",
       "      <th>time</th>\n",
       "      <th>chi</th>\n",
       "      <th>c_st</th>\n",
       "      <th>Z</th>\n",
       "      <th>local_c</th>\n",
       "      <th>omega</th>\n",
       "    </tr>\n",
       "  </thead>\n",
       "  <tbody>\n",
       "    <tr>\n",
       "      <th>1936338</th>\n",
       "      <td>105</td>\n",
       "      <td>0.10</td>\n",
       "      <td>9.0</td>\n",
       "      <td>0.083147</td>\n",
       "      <td>0.432</td>\n",
       "      <td>0.058040</td>\n",
       "      <td>0.003743</td>\n",
       "    </tr>\n",
       "    <tr>\n",
       "      <th>1936539</th>\n",
       "      <td>306</td>\n",
       "      <td>0.11</td>\n",
       "      <td>9.0</td>\n",
       "      <td>0.083148</td>\n",
       "      <td>0.432</td>\n",
       "      <td>0.058040</td>\n",
       "      <td>0.003564</td>\n",
       "    </tr>\n",
       "    <tr>\n",
       "      <th>1936740</th>\n",
       "      <td>507</td>\n",
       "      <td>0.12</td>\n",
       "      <td>9.0</td>\n",
       "      <td>0.083148</td>\n",
       "      <td>0.432</td>\n",
       "      <td>0.058041</td>\n",
       "      <td>0.003400</td>\n",
       "    </tr>\n",
       "    <tr>\n",
       "      <th>1936941</th>\n",
       "      <td>708</td>\n",
       "      <td>0.13</td>\n",
       "      <td>9.0</td>\n",
       "      <td>0.083149</td>\n",
       "      <td>0.432</td>\n",
       "      <td>0.058041</td>\n",
       "      <td>0.003250</td>\n",
       "    </tr>\n",
       "    <tr>\n",
       "      <th>1937142</th>\n",
       "      <td>909</td>\n",
       "      <td>0.14</td>\n",
       "      <td>9.0</td>\n",
       "      <td>0.083149</td>\n",
       "      <td>0.432</td>\n",
       "      <td>0.058041</td>\n",
       "      <td>0.003112</td>\n",
       "    </tr>\n",
       "    <tr>\n",
       "      <th>...</th>\n",
       "      <td>...</td>\n",
       "      <td>...</td>\n",
       "      <td>...</td>\n",
       "      <td>...</td>\n",
       "      <td>...</td>\n",
       "      <td>...</td>\n",
       "      <td>...</td>\n",
       "    </tr>\n",
       "    <tr>\n",
       "      <th>2335926</th>\n",
       "      <td>200502</td>\n",
       "      <td>19.97</td>\n",
       "      <td>9.0</td>\n",
       "      <td>0.252582</td>\n",
       "      <td>0.432</td>\n",
       "      <td>0.270124</td>\n",
       "      <td>5.195300</td>\n",
       "    </tr>\n",
       "    <tr>\n",
       "      <th>2336127</th>\n",
       "      <td>200703</td>\n",
       "      <td>19.98</td>\n",
       "      <td>9.0</td>\n",
       "      <td>0.252582</td>\n",
       "      <td>0.432</td>\n",
       "      <td>0.270128</td>\n",
       "      <td>5.193960</td>\n",
       "    </tr>\n",
       "    <tr>\n",
       "      <th>2336328</th>\n",
       "      <td>200904</td>\n",
       "      <td>19.99</td>\n",
       "      <td>9.0</td>\n",
       "      <td>0.252582</td>\n",
       "      <td>0.432</td>\n",
       "      <td>0.270132</td>\n",
       "      <td>5.192630</td>\n",
       "    </tr>\n",
       "    <tr>\n",
       "      <th>2336529</th>\n",
       "      <td>201105</td>\n",
       "      <td>20.00</td>\n",
       "      <td>9.0</td>\n",
       "      <td>0.252582</td>\n",
       "      <td>0.432</td>\n",
       "      <td>0.270136</td>\n",
       "      <td>5.191300</td>\n",
       "    </tr>\n",
       "    <tr>\n",
       "      <th>2336730</th>\n",
       "      <td>201306</td>\n",
       "      <td>20.01</td>\n",
       "      <td>9.0</td>\n",
       "      <td>0.252582</td>\n",
       "      <td>0.432</td>\n",
       "      <td>0.270140</td>\n",
       "      <td>5.189960</td>\n",
       "    </tr>\n",
       "  </tbody>\n",
       "</table>\n",
       "<p>1993 rows × 7 columns</p>\n",
       "</div>"
      ],
      "text/plain": [
       "         Unnamed: 0   time  chi      c_st      Z   local_c     omega\n",
       "1936338         105   0.10  9.0  0.083147  0.432  0.058040  0.003743\n",
       "1936539         306   0.11  9.0  0.083148  0.432  0.058040  0.003564\n",
       "1936740         507   0.12  9.0  0.083148  0.432  0.058041  0.003400\n",
       "1936941         708   0.13  9.0  0.083149  0.432  0.058041  0.003250\n",
       "1937142         909   0.14  9.0  0.083149  0.432  0.058041  0.003112\n",
       "...             ...    ...  ...       ...    ...       ...       ...\n",
       "2335926      200502  19.97  9.0  0.252582  0.432  0.270124  5.195300\n",
       "2336127      200703  19.98  9.0  0.252582  0.432  0.270128  5.193960\n",
       "2336328      200904  19.99  9.0  0.252582  0.432  0.270132  5.192630\n",
       "2336529      201105  20.00  9.0  0.252582  0.432  0.270136  5.191300\n",
       "2336730      201306  20.01  9.0  0.252582  0.432  0.270140  5.189960\n",
       "\n",
       "[1993 rows x 7 columns]"
      ]
     },
     "execution_count": 74,
     "metadata": {},
     "output_type": "execute_result"
    }
   ],
   "source": [
    "df_Z = df_chi.loc[df_chi['Z'] == 6.30e-02]\n",
    "df_Z2 = df_chi.loc[df_chi['Z'] == 1.89e-01]\n",
    "df_Z3 = df_chi.loc[df_chi['Z'] == 6.12e-01]\n",
    "df_Z4 = df_chi.loc[df_chi['Z'] == 4.32e-01]\n",
    "\n",
    "df_Z4"
   ]
  },
  {
   "cell_type": "code",
   "execution_count": 76,
   "metadata": {},
   "outputs": [
    {
     "data": {
      "text/plain": [
       "Text(0.5, 1.0, 'Chi = 9')"
      ]
     },
     "execution_count": 76,
     "metadata": {},
     "output_type": "execute_result"
    },
    {
     "data": {
      "image/png": "[encoded data removed]",
      "text/plain": [
       "<Figure size 640x480 with 1 Axes>"
      ]
     },
     "metadata": {},
     "output_type": "display_data"
    }
   ],
   "source": [
    "import matplotlib.pyplot as plt\n",
    "plt.plot(df_Z['c_st'],df_Z['omega'],label ='Z = 6.30e-02')\n",
    "plt.plot(df_Z2['c_st'],df_Z2['omega'],label ='Z = 1.89e-01')\n",
    "plt.plot(df_Z3['c_st'],df_Z3['omega'],label ='Z = 6.12e-01')\n",
    "plt.plot(df_Z4['c_st'],df_Z4['omega'],label ='Z = 4.32e-01')\n",
    "plt.legend()\n",
    "plt.xlabel('Stoich PV')\n",
    "plt.ylabel('PV Source Term')\n",
    "plt.title('Chi = 9')\n"
   ]
  },
  {
   "cell_type": "code",
   "execution_count": null,
   "metadata": {},
   "outputs": [],
   "source": [
    "import matplotlib.pyplot as plt\n",
    "plt.plot(df_cst['Z'],df_cst['omega'],label ='c_st = 6.30e-02')\n",
    "plt.plot(df_cst2['Z'],df_cst2['omega'],label ='c_st = 1.89e-01')\n",
    "plt.plot(df_cst3['Z'],df_cst3['omega'],label ='c_st = 6.12e-017')\n",
    "plt.plot(df_cst4['Z'],df_cst4['omega'],label ='c_st = 4.32e-01')\n",
    "plt.legend()\n",
    "plt.xlabel('Mixture Fraction')\n",
    "plt.ylabel('PV Source Term')\n",
    "plt.title('Chi = 9')"
   ]
  },
  {
   "cell_type": "code",
   "execution_count": 7,
   "metadata": {},
   "outputs": [
    {
     "ename": "",
     "evalue": "",
     "output_type": "error",
     "traceback": [
      "\u001b[1;31mThe Kernel crashed while executing code in the the current cell or a previous cell. Please review the code in the cell(s) to identify a possible cause of the failure. Click <a href='https://aka.ms/vscodeJupyterKernelCrash'>here</a> for more info. View Jupyter <a href='command:jupyter.viewOutput'>log</a> for further details."
     ]
    },
    {
     "ename": "",
     "evalue": "",
     "output_type": "error",
     "traceback": [
      "\u001b[1;31mCanceled future for execute_request message before replies were done"
     ]
    }
   ],
   "source": [
    "import numpy as np\n",
    "\n",
    "# Assuming you have already defined the 1D arrays mix_frac, c_st, and omega\n",
    "mix_frac = np.array([df_chi['Z']][::100])\n",
    "c_st = np.array([df_chi['c_st']][::100])\n",
    "omega = np.array([df_chi['omega']][::100])\n",
    "# Create a grid using meshgrid\n",
    "mix_frac_grid, cst_grid = np.meshgrid(mix_frac, c_st)\n",
    "\n",
    "# Create a grid for omega values using interpolation\n",
    "omega_grid = np.interp(mix_frac_grid.flatten(), mix_frac, omega)\n",
    "omega_grid = omega_grid.reshape(mix_frac_grid.shape)\n",
    "\n",
    "# Print the dimensions of the grids\n",
    "print(\"mix_frac_grid shape:\", mix_frac_grid.shape)\n",
    "print(\"cst_grid shape:\", cst_grid.shape)\n",
    "print(\"omega_grid shape:\", omega_grid.shape)\n"
   ]
  },
  {
   "cell_type": "code",
   "execution_count": null,
   "metadata": {},
   "outputs": [],
   "source": []
  }
 ],
 "metadata": {
  "kernelspec": {
   "display_name": "Python 3",
   "language": "python",
   "name": "python3"
  },
  "language_info": {
   "codemirror_mode": {
    "name": "ipython",
    "version": 3
   },
   "file_extension": ".py",
   "mimetype": "text/x-python",
   "name": "python",
   "nbconvert_exporter": "python",
   "pygments_lexer": "ipython3",
   "version": "3.8.16"
  },
  "orig_nbformat": 4
 },
 "nbformat": 4,
 "nbformat_minor": 2
}
